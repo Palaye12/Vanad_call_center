{
 "cells": [
  {
   "cell_type": "code",
   "execution_count": 1,
   "id": "9391364c",
   "metadata": {},
   "outputs": [],
   "source": [
    "import pandas as pd\n",
    "import numpy as np\n",
    "import matplotlib.pyplot as plt\n",
    "\n",
    "import math\n",
    "\n",
    "pd.set_option('display.max_rows',50)"
   ]
  },
  {
   "cell_type": "markdown",
   "id": "9e852b51",
   "metadata": {},
   "source": [
    "# Note (Clarisse n'oublie pas d'ajouter le résumé de ce qui est fait)"
   ]
  },
  {
   "cell_type": "code",
   "execution_count": 2,
   "id": "cc2e8318",
   "metadata": {},
   "outputs": [],
   "source": [
    "def month_in_day(dataframe):\n",
    "    dataframe[['only_date_received', 'only_hours_received']] = dataframe['date_received'].str.split(expand=True)\n",
    "    jours_unique = dataframe['only_date_received'].unique()\n",
    "    \n",
    "    for i in jours_unique:\n",
    "        df_jours = dataframe[dataframe.only_date_received==i] \n",
    "        df_jours.to_csv(f'Janvier/{i.strip()}.csv', index=False)\n",
    "    return \"Fait\""
   ]
  },
  {
   "cell_type": "code",
   "execution_count": 3,
   "id": "4ffe6c45",
   "metadata": {},
   "outputs": [
    {
     "data": {
      "text/plain": [
       "'Fait'"
      ]
     },
     "execution_count": 3,
     "metadata": {},
     "output_type": "execute_result"
    }
   ],
   "source": [
    "# Appelle de la fonction : \n",
    "\n",
    "df_01 = pd.read_csv('dataset/calls-2014-01.csv')\n",
    "month_in_day(df_01)"
   ]
  },
  {
   "cell_type": "code",
   "execution_count": 4,
   "id": "483c4224",
   "metadata": {},
   "outputs": [
    {
     "data": {
      "text/html": [
       "<div>\n",
       "<style scoped>\n",
       "    .dataframe tbody tr th:only-of-type {\n",
       "        vertical-align: middle;\n",
       "    }\n",
       "\n",
       "    .dataframe tbody tr th {\n",
       "        vertical-align: top;\n",
       "    }\n",
       "\n",
       "    .dataframe thead th {\n",
       "        text-align: right;\n",
       "    }\n",
       "</style>\n",
       "<table border=\"1\" class=\"dataframe\">\n",
       "  <thead>\n",
       "    <tr style=\"text-align: right;\">\n",
       "      <th></th>\n",
       "      <th>date_received</th>\n",
       "      <th>queue_name</th>\n",
       "      <th>agent_number</th>\n",
       "      <th>answered</th>\n",
       "      <th>consult</th>\n",
       "      <th>transfer</th>\n",
       "      <th>hangup</th>\n",
       "      <th>only_date_received</th>\n",
       "      <th>only_hours_received</th>\n",
       "    </tr>\n",
       "  </thead>\n",
       "  <tbody>\n",
       "    <tr>\n",
       "      <th>0</th>\n",
       "      <td>2014-01-02 08:03:21</td>\n",
       "      <td>30175</td>\n",
       "      <td>6935.0</td>\n",
       "      <td>2014-01-02 08:03:22</td>\n",
       "      <td>NaN</td>\n",
       "      <td>NaN</td>\n",
       "      <td>2014-01-02 08:05:54</td>\n",
       "      <td>2014-01-02</td>\n",
       "      <td>08:03:21</td>\n",
       "    </tr>\n",
       "    <tr>\n",
       "      <th>1</th>\n",
       "      <td>2014-01-02 08:04:37</td>\n",
       "      <td>30560</td>\n",
       "      <td>6940.0</td>\n",
       "      <td>2014-01-02 08:04:38</td>\n",
       "      <td>NaN</td>\n",
       "      <td>NaN</td>\n",
       "      <td>2014-01-02 08:09:49</td>\n",
       "      <td>2014-01-02</td>\n",
       "      <td>08:04:37</td>\n",
       "    </tr>\n",
       "    <tr>\n",
       "      <th>2</th>\n",
       "      <td>2014-01-02 08:06:26</td>\n",
       "      <td>30172</td>\n",
       "      <td>6968.0</td>\n",
       "      <td>2014-01-02 08:06:27</td>\n",
       "      <td>NaN</td>\n",
       "      <td>NaN</td>\n",
       "      <td>2014-01-02 08:15:17</td>\n",
       "      <td>2014-01-02</td>\n",
       "      <td>08:06:26</td>\n",
       "    </tr>\n",
       "    <tr>\n",
       "      <th>3</th>\n",
       "      <td>2014-01-02 08:08:07</td>\n",
       "      <td>30175</td>\n",
       "      <td>9424.0</td>\n",
       "      <td>2014-01-02 08:08:08</td>\n",
       "      <td>NaN</td>\n",
       "      <td>NaN</td>\n",
       "      <td>2014-01-02 08:10:37</td>\n",
       "      <td>2014-01-02</td>\n",
       "      <td>08:08:07</td>\n",
       "    </tr>\n",
       "    <tr>\n",
       "      <th>4</th>\n",
       "      <td>2014-01-02 08:08:26</td>\n",
       "      <td>30172</td>\n",
       "      <td>8076.0</td>\n",
       "      <td>2014-01-02 08:08:27</td>\n",
       "      <td>NaN</td>\n",
       "      <td>NaN</td>\n",
       "      <td>2014-01-02 08:14:59</td>\n",
       "      <td>2014-01-02</td>\n",
       "      <td>08:08:26</td>\n",
       "    </tr>\n",
       "  </tbody>\n",
       "</table>\n",
       "</div>"
      ],
      "text/plain": [
       "         date_received  queue_name  agent_number             answered consult  \\\n",
       "0  2014-01-02 08:03:21       30175        6935.0  2014-01-02 08:03:22     NaN   \n",
       "1  2014-01-02 08:04:37       30560        6940.0  2014-01-02 08:04:38     NaN   \n",
       "2  2014-01-02 08:06:26       30172        6968.0  2014-01-02 08:06:27     NaN   \n",
       "3  2014-01-02 08:08:07       30175        9424.0  2014-01-02 08:08:08     NaN   \n",
       "4  2014-01-02 08:08:26       30172        8076.0  2014-01-02 08:08:27     NaN   \n",
       "\n",
       "  transfer               hangup only_date_received only_hours_received  \n",
       "0      NaN  2014-01-02 08:05:54         2014-01-02            08:03:21  \n",
       "1      NaN  2014-01-02 08:09:49         2014-01-02            08:04:37  \n",
       "2      NaN  2014-01-02 08:15:17         2014-01-02            08:06:26  \n",
       "3      NaN  2014-01-02 08:10:37         2014-01-02            08:08:07  \n",
       "4      NaN  2014-01-02 08:14:59         2014-01-02            08:08:26  "
      ]
     },
     "execution_count": 4,
     "metadata": {},
     "output_type": "execute_result"
    }
   ],
   "source": [
    "df_jour1 = pd.read_csv(\"Janvier/2014-01-02.csv\")\n",
    "df_jour1.head()"
   ]
  }
 ],
 "metadata": {
  "kernelspec": {
   "display_name": "Python 3 (ipykernel)",
   "language": "python",
   "name": "python3"
  },
  "language_info": {
   "codemirror_mode": {
    "name": "ipython",
    "version": 3
   },
   "file_extension": ".py",
   "mimetype": "text/x-python",
   "name": "python",
   "nbconvert_exporter": "python",
   "pygments_lexer": "ipython3",
   "version": "3.9.12"
  }
 },
 "nbformat": 4,
 "nbformat_minor": 5
}
