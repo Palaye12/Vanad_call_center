{
 "cells": [
  {
   "cell_type": "code",
   "execution_count": 1,
   "id": "1e7dd126",
   "metadata": {},
   "outputs": [],
   "source": [
    "import pandas as pd\n",
    "import numpy as np\n",
    "import matplotlib.pyplot as plt\n",
    "\n",
    "import math\n",
    "\n",
    "pd.set_option('display.max_rows',50)"
   ]
  },
  {
   "cell_type": "code",
   "execution_count": 2,
   "id": "c4587385",
   "metadata": {},
   "outputs": [],
   "source": [
    "### séparation de la colonne date_receiveid en deux colonnes : only_hours_received only_date_received\n",
    "def split_date_received(dataframe):\n",
    "    dataframe[['only_date_received', 'only_hours_received']] = dataframe['date_received'].str.split(expand=True)\n",
    "    return dataframe"
   ]
  },
  {
   "cell_type": "code",
   "execution_count": 10,
   "id": "6dc59b39",
   "metadata": {},
   "outputs": [],
   "source": [
    "def jours_unique_func(dataframe):\n",
    "    jours_unique= []\n",
    "    jours_unique = dataframe['only_date_received'].unique()\n",
    "    return jours_unique"
   ]
  },
  {
   "cell_type": "code",
   "execution_count": 4,
   "id": "9efa0d93",
   "metadata": {},
   "outputs": [],
   "source": [
    "def server_by_queuename_by_day (dataframe, jours_unique): #dataframe splité\n",
    "    dic_jour = {} \n",
    "    for i in jours_unique:\n",
    "        dic_service ={}\n",
    "        list_service=[]\n",
    "\n",
    "        # récupération de toute les lignes avec only_date_received = i\n",
    "        df_jours_uniq = dataframe[dataframe.only_date_received==i]   # est un dataframe\n",
    "        for j in df_jours_uniq.index :\n",
    "            queue_name = df_jours_uniq[\"queue_name\"][j] # le type de service\n",
    "            if queue_name not in dic_service:\n",
    "                agent_number = df_jours_uniq[df_jours_uniq.queue_name == queue_name][\"agent_number\"] # ici, c'est une série\n",
    "                agent_deploye = []\n",
    "                for ag in agent_number:\n",
    "                    if ag not in agent_deploye and math.isnan(ag) == False: # afin d'exclure les valeurs manquante de agent_number\n",
    "                        agent_deploye.append(ag)\n",
    "\n",
    "                count_distinct_agent = len(agent_deploye)  \n",
    "                #agent_deploye.clear()\n",
    "                agent_deploye.append(count_distinct_agent)\n",
    "                if count_distinct_agent!=0:\n",
    "                    dic_service[queue_name] = count_distinct_agent\n",
    "\n",
    "        list_service.append(dic_service)\n",
    "        dic_jour[i]= list_service     \n",
    "\n",
    "    return dic_jour"
   ]
  },
  {
   "cell_type": "code",
   "execution_count": 5,
   "id": "43ca1048",
   "metadata": {},
   "outputs": [],
   "source": [
    "def browse_dictionnaire(dictionnaire):\n",
    "    number_server_TS = pd.DataFrame()\n",
    "    for key, value in dictionnaire.items():\n",
    "        valeur = value[0]\n",
    "        taille_df = len(valeur)\n",
    "        list_date=[]\n",
    "        for i in range(taille_df):        \n",
    "            list_date.append(key)\n",
    "\n",
    "        df_date = pd.DataFrame(list_date,columns=['date'])\n",
    "        df_server = pd.DataFrame(list(valeur.items()),columns=['type_service', 'Nombre_serveur'])\n",
    "\n",
    "\n",
    "        df_info_server_day = pd.concat([df_date, df_server], axis=1, join='inner')\n",
    "        number_server_TS = pd.concat([number_server_TS, df_info_server_day], ignore_index=True, sort=False)\n",
    "    \n",
    "    return number_server_TS"
   ]
  },
  {
   "cell_type": "code",
   "execution_count": 6,
   "id": "265b71e9",
   "metadata": {},
   "outputs": [],
   "source": [
    "# Ajout de colonne serveur au dataframe\n",
    "def add_col_serveur(dataframe, df_browse_dictionnaire): # df_split\n",
    "    dataframe[\"serveur\"]= \"\"\n",
    "    for k in range(len(dataframe)):\n",
    "        queue_name = dataframe.loc[k,\"queue_name\"]\n",
    "        only_date_received = dataframe.loc[k,\"only_date_received\"]\n",
    "        agent_number= dataframe.loc[k,\"agent_number\"]\n",
    "        # récupérer le nombre de serveur pour queue_name le jour only_date_received\n",
    "        serveur = df_browse_dictionnaire[(df_browse_dictionnaire.date==only_date_received) & (df_browse_dictionnaire.type_service==queue_name)]\n",
    "        serveur=serveur[\"Nombre_serveur\"]\n",
    "        for i in serveur:\n",
    "            s=i\n",
    "            dataframe[\"serveur\"][k]=s \n",
    "    return dataframe"
   ]
  },
  {
   "cell_type": "code",
   "execution_count": 11,
   "id": "434c0bc3",
   "metadata": {},
   "outputs": [],
   "source": [
    "def function_finale(df_input):\n",
    "    df_output_1 = split_date_received(df_input)\n",
    "    jours_unique = jours_unique_func(df_input)\n",
    "    dictionnaire = server_by_queuename_by_day(df_output_1,jours_unique) # il sort un dictionnaire\n",
    "    df_browse_dictionnaire = browse_dictionnaire(dictionnaire)\n",
    "    df_output_finale=add_col_serveur(df_output_1, df_browse_dictionnaire)\n",
    "    return df_output_finale"
   ]
  },
  {
   "cell_type": "code",
   "execution_count": 12,
   "id": "a62b0cb1",
   "metadata": {},
   "outputs": [
    {
     "name": "stderr",
     "output_type": "stream",
     "text": [
      "C:\\Users\\HP\\AppData\\Local\\Temp\\ipykernel_12976\\3047877329.py:13: SettingWithCopyWarning: \n",
      "A value is trying to be set on a copy of a slice from a DataFrame\n",
      "\n",
      "See the caveats in the documentation: https://pandas.pydata.org/pandas-docs/stable/user_guide/indexing.html#returning-a-view-versus-a-copy\n",
      "  dataframe[\"serveur\"][k]=s\n"
     ]
    }
   ],
   "source": [
    "# sauveagrde dans un fichier csv\n",
    "df_01 = pd.read_csv('dataset/calls-2014-01.csv')\n",
    "df_output_finale = function_finale(df_01)\n"
   ]
  },
  {
   "cell_type": "code",
   "execution_count": 13,
   "id": "7feb3509",
   "metadata": {},
   "outputs": [
    {
     "data": {
      "text/html": [
       "<div>\n",
       "<style scoped>\n",
       "    .dataframe tbody tr th:only-of-type {\n",
       "        vertical-align: middle;\n",
       "    }\n",
       "\n",
       "    .dataframe tbody tr th {\n",
       "        vertical-align: top;\n",
       "    }\n",
       "\n",
       "    .dataframe thead th {\n",
       "        text-align: right;\n",
       "    }\n",
       "</style>\n",
       "<table border=\"1\" class=\"dataframe\">\n",
       "  <thead>\n",
       "    <tr style=\"text-align: right;\">\n",
       "      <th></th>\n",
       "      <th>date_received</th>\n",
       "      <th>queue_name</th>\n",
       "      <th>agent_number</th>\n",
       "      <th>answered</th>\n",
       "      <th>consult</th>\n",
       "      <th>transfer</th>\n",
       "      <th>hangup</th>\n",
       "      <th>only_date_received</th>\n",
       "      <th>only_hours_received</th>\n",
       "      <th>serveur</th>\n",
       "    </tr>\n",
       "  </thead>\n",
       "  <tbody>\n",
       "    <tr>\n",
       "      <th>0</th>\n",
       "      <td>2014-01-02 08:03:21</td>\n",
       "      <td>30175</td>\n",
       "      <td>6935.0</td>\n",
       "      <td>2014-01-02 08:03:22</td>\n",
       "      <td>NaN</td>\n",
       "      <td>NaN</td>\n",
       "      <td>2014-01-02 08:05:54</td>\n",
       "      <td>2014-01-02</td>\n",
       "      <td>08:03:21</td>\n",
       "      <td>78</td>\n",
       "    </tr>\n",
       "    <tr>\n",
       "      <th>1</th>\n",
       "      <td>2014-01-02 08:04:37</td>\n",
       "      <td>30560</td>\n",
       "      <td>6940.0</td>\n",
       "      <td>2014-01-02 08:04:38</td>\n",
       "      <td>NaN</td>\n",
       "      <td>NaN</td>\n",
       "      <td>2014-01-02 08:09:49</td>\n",
       "      <td>2014-01-02</td>\n",
       "      <td>08:04:37</td>\n",
       "      <td>64</td>\n",
       "    </tr>\n",
       "    <tr>\n",
       "      <th>2</th>\n",
       "      <td>2014-01-02 08:06:26</td>\n",
       "      <td>30172</td>\n",
       "      <td>6968.0</td>\n",
       "      <td>2014-01-02 08:06:27</td>\n",
       "      <td>NaN</td>\n",
       "      <td>NaN</td>\n",
       "      <td>2014-01-02 08:15:17</td>\n",
       "      <td>2014-01-02</td>\n",
       "      <td>08:06:26</td>\n",
       "      <td>62</td>\n",
       "    </tr>\n",
       "    <tr>\n",
       "      <th>3</th>\n",
       "      <td>2014-01-02 08:08:07</td>\n",
       "      <td>30175</td>\n",
       "      <td>9424.0</td>\n",
       "      <td>2014-01-02 08:08:08</td>\n",
       "      <td>NaN</td>\n",
       "      <td>NaN</td>\n",
       "      <td>2014-01-02 08:10:37</td>\n",
       "      <td>2014-01-02</td>\n",
       "      <td>08:08:07</td>\n",
       "      <td>78</td>\n",
       "    </tr>\n",
       "    <tr>\n",
       "      <th>4</th>\n",
       "      <td>2014-01-02 08:08:26</td>\n",
       "      <td>30172</td>\n",
       "      <td>8076.0</td>\n",
       "      <td>2014-01-02 08:08:27</td>\n",
       "      <td>NaN</td>\n",
       "      <td>NaN</td>\n",
       "      <td>2014-01-02 08:14:59</td>\n",
       "      <td>2014-01-02</td>\n",
       "      <td>08:08:26</td>\n",
       "      <td>62</td>\n",
       "    </tr>\n",
       "  </tbody>\n",
       "</table>\n",
       "</div>"
      ],
      "text/plain": [
       "         date_received  queue_name  agent_number             answered consult  \\\n",
       "0  2014-01-02 08:03:21       30175        6935.0  2014-01-02 08:03:22     NaN   \n",
       "1  2014-01-02 08:04:37       30560        6940.0  2014-01-02 08:04:38     NaN   \n",
       "2  2014-01-02 08:06:26       30172        6968.0  2014-01-02 08:06:27     NaN   \n",
       "3  2014-01-02 08:08:07       30175        9424.0  2014-01-02 08:08:08     NaN   \n",
       "4  2014-01-02 08:08:26       30172        8076.0  2014-01-02 08:08:27     NaN   \n",
       "\n",
       "  transfer               hangup only_date_received only_hours_received serveur  \n",
       "0      NaN  2014-01-02 08:05:54         2014-01-02            08:03:21      78  \n",
       "1      NaN  2014-01-02 08:09:49         2014-01-02            08:04:37      64  \n",
       "2      NaN  2014-01-02 08:15:17         2014-01-02            08:06:26      62  \n",
       "3      NaN  2014-01-02 08:10:37         2014-01-02            08:08:07      78  \n",
       "4      NaN  2014-01-02 08:14:59         2014-01-02            08:08:26      62  "
      ]
     },
     "execution_count": 13,
     "metadata": {},
     "output_type": "execute_result"
    }
   ],
   "source": [
    "# importation du jeu de données calls-2014-01.csv\n",
    "df_output_finale.head()"
   ]
  },
  {
   "cell_type": "code",
   "execution_count": 14,
   "id": "bb9a83f6",
   "metadata": {},
   "outputs": [],
   "source": [
    "# Sauvegarde dans un fichier csv\n",
    "df_output_finale.to_csv('df_01_output.csv', index=False)"
   ]
  },
  {
   "cell_type": "code",
   "execution_count": null,
   "id": "9217c2e7",
   "metadata": {},
   "outputs": [],
   "source": []
  }
 ],
 "metadata": {
  "kernelspec": {
   "display_name": "Python 3 (ipykernel)",
   "language": "python",
   "name": "python3"
  },
  "language_info": {
   "codemirror_mode": {
    "name": "ipython",
    "version": 3
   },
   "file_extension": ".py",
   "mimetype": "text/x-python",
   "name": "python",
   "nbconvert_exporter": "python",
   "pygments_lexer": "ipython3",
   "version": "3.9.12"
  }
 },
 "nbformat": 4,
 "nbformat_minor": 5
}
